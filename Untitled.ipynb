{
 "cells": [
  {
   "cell_type": "code",
   "execution_count": 1,
   "id": "cbb09d92-d5db-47ef-b1b9-93a96e79a13f",
   "metadata": {},
   "outputs": [
    {
     "name": "stdout",
     "output_type": "stream",
     "text": [
      "Hola\n"
     ]
    }
   ],
   "source": [
    "import infection\n",
    "#import numpy as np"
   ]
  },
  {
   "cell_type": "code",
   "execution_count": 2,
   "id": "83bcf8c1-ba41-4c97-8354-aa44ac4115b2",
   "metadata": {},
   "outputs": [],
   "source": [
    "mundo_1 = infection.fabrica.Mundo (100, 200)"
   ]
  },
  {
   "cell_type": "code",
   "execution_count": 3,
   "id": "a5d7bce8-cf70-45d8-991b-023b25d8336f",
   "metadata": {},
   "outputs": [
    {
     "data": {
      "text/plain": [
       "200"
      ]
     },
     "execution_count": 3,
     "metadata": {},
     "output_type": "execute_result"
    }
   ],
   "source": [
    "mundo_1.numero_filas"
   ]
  },
  {
   "cell_type": "code",
   "execution_count": 4,
   "id": "4fc36844-e2cc-4c94-a4c4-ff0a8818797d",
   "metadata": {},
   "outputs": [],
   "source": [
    "mundo_1.ocupacion_inicial(0.1)"
   ]
  },
  {
   "cell_type": "code",
   "execution_count": 5,
   "id": "2c72eb6e-0b64-4a03-872a-b7197217a9c3",
   "metadata": {},
   "outputs": [
    {
     "data": {
      "text/plain": [
       "array([[1, 0, 0, ..., 0, 1, 0],\n",
       "       [0, 0, 0, ..., 1, 0, 0],\n",
       "       [0, 0, 0, ..., 0, 0, 1],\n",
       "       ...,\n",
       "       [0, 0, 0, ..., 0, 0, 0],\n",
       "       [0, 0, 0, ..., 0, 1, 0],\n",
       "       [0, 0, 0, ..., 0, 1, 0]], shape=(200, 100))"
      ]
     },
     "execution_count": 5,
     "metadata": {},
     "output_type": "execute_result"
    }
   ],
   "source": [
    "mundo_1.mapa"
   ]
  },
  {
   "cell_type": "code",
   "execution_count": 6,
   "id": "1759eda0-2f96-4e5c-af88-346af9b4982b",
   "metadata": {},
   "outputs": [],
   "source": [
    "import numpy as np"
   ]
  },
  {
   "cell_type": "code",
   "execution_count": 7,
   "id": "15453149-2567-492d-b335-74b2ebbbfd2a",
   "metadata": {},
   "outputs": [
    {
     "data": {
      "text/plain": [
       "np.int64(2000)"
      ]
     },
     "execution_count": 7,
     "metadata": {},
     "output_type": "execute_result"
    }
   ],
   "source": [
    "np.sum(mundo_1.mapa)"
   ]
  },
  {
   "cell_type": "code",
   "execution_count": 10,
   "id": "1677e440-4d2a-4158-8201-e9087565394f",
   "metadata": {},
   "outputs": [
    {
     "data": {
      "text/plain": [
       "6400000000"
      ]
     },
     "execution_count": 10,
     "metadata": {},
     "output_type": "execute_result"
    }
   ],
   "source": [
    "(10000)*(10000)*64"
   ]
  },
  {
   "cell_type": "code",
   "execution_count": null,
   "id": "00983526-bdeb-4a25-9cac-de937559b9fa",
   "metadata": {},
   "outputs": [],
   "source": []
  },
  {
   "cell_type": "code",
   "execution_count": 11,
   "id": "898c959d-5c79-4c6b-8237-817194a10dc2",
   "metadata": {},
   "outputs": [],
   "source": [
    "class Mundo:\n",
    "    # Atributos que no puede cambiar\n",
    "    color = \"azul\"\n",
    "    def __init__(self, n_columnas, n_filas):\n",
    "        self.numero_columnas = n_columnas\n",
    "        self.numero_filas = n_filas"
   ]
  },
  {
   "cell_type": "code",
   "execution_count": 24,
   "id": "9adaf5e6-82f9-4435-a22d-941ecb15959c",
   "metadata": {},
   "outputs": [],
   "source": [
    "class Mundo:\n",
    "    # Atributos que no puede cambiar\n",
    "    color = \"azul\"\n",
    "    def __init__(self, n_columnas, n_filas):\n",
    "        self.numero_columnas = n_columnas\n",
    "        self.numero_filas = n_filas\n",
    "\n",
    "        self.mapa = np.zeros((n_filas,n_columnas), dtype=int)\n",
    "\n",
    "    def ocupacion_inicial(self,ocupacion):\n",
    "\n",
    "        numero_celdas_ocupadas = int(ocupacion * self.numero_columnas * self.numero_filas)\n",
    "        \n",
    "        contador = 0\n",
    "        while contador < numero_celdas_ocupadas:\n",
    "            ii = np.random.randint(0, self.numero_filas)\n",
    "            jj = np.random.randint(0, self.numero_columnas)\n",
    "            \n",
    "            if self.mapa[ii, jj] == 0:\n",
    "                self.mapa[ii, jj] = 1\n",
    "                contador += 1\n"
   ]
  },
  {
   "cell_type": "code",
   "execution_count": 14,
   "id": "a3b841dd-75cf-412f-bebd-1e0a8ea6008d",
   "metadata": {},
   "outputs": [
    {
     "data": {
      "text/plain": [
       "np.float64(1.0)"
      ]
     },
     "execution_count": 14,
     "metadata": {},
     "output_type": "execute_result"
    }
   ],
   "source": [
    "np.round(0.8)"
   ]
  },
  {
   "cell_type": "code",
   "execution_count": null,
   "id": "f13071c1-1bda-4ea8-9d6a-9ad751c1488c",
   "metadata": {},
   "outputs": [],
   "source": []
  }
 ],
 "metadata": {
  "kernelspec": {
   "display_name": "Python 3 (ipykernel)",
   "language": "python",
   "name": "python3"
  },
  "language_info": {
   "codemirror_mode": {
    "name": "ipython",
    "version": 3
   },
   "file_extension": ".py",
   "mimetype": "text/x-python",
   "name": "python",
   "nbconvert_exporter": "python",
   "pygments_lexer": "ipython3",
   "version": "3.12.9"
  }
 },
 "nbformat": 4,
 "nbformat_minor": 5
}
