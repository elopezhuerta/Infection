{
 "cells": [
  {
   "cell_type": "code",
   "execution_count": 1,
   "id": "929b8b64-07d5-4ce9-b02c-acc5ec163eb6",
   "metadata": {},
   "outputs": [],
   "source": [
    "import sys"
   ]
  },
  {
   "cell_type": "code",
   "execution_count": 4,
   "id": "dd6ee0e1-cf2e-4512-982e-748c7c14977f",
   "metadata": {},
   "outputs": [],
   "source": [
    "sys.path.append(\"/home/ericlopez/repos@Erick1195/infection\")"
   ]
  },
  {
   "cell_type": "code",
   "execution_count": 5,
   "id": "9516d684-a98f-4c0a-92d7-e77a1342d257",
   "metadata": {},
   "outputs": [
    {
     "data": {
      "text/plain": [
       "['/home/ericlopez/miniconda3/envs/infection@Ericko1195_3.12/lib/python312.zip',\n",
       " '/home/ericlopez/miniconda3/envs/infection@Ericko1195_3.12/lib/python3.12',\n",
       " '/home/ericlopez/miniconda3/envs/infection@Ericko1195_3.12/lib/python3.12/lib-dynload',\n",
       " '',\n",
       " '/home/ericlopez/miniconda3/envs/infection@Ericko1195_3.12/lib/python3.12/site-packages',\n",
       " '/home/ericlopez/repos@Erick1195/infection',\n",
       " '/home/ericlopez/repos@Erick1195/infection']"
      ]
     },
     "execution_count": 5,
     "metadata": {},
     "output_type": "execute_result"
    }
   ],
   "source": [
    "sys.path"
   ]
  },
  {
   "cell_type": "code",
   "execution_count": null,
   "id": "85534b0d-eeda-4430-bc68-1e73ed22f63a",
   "metadata": {},
   "outputs": [],
   "source": []
  }
 ],
 "metadata": {
  "kernelspec": {
   "display_name": "Python 3 (ipykernel)",
   "language": "python",
   "name": "python3"
  },
  "language_info": {
   "codemirror_mode": {
    "name": "ipython",
    "version": 3
   },
   "file_extension": ".py",
   "mimetype": "text/x-python",
   "name": "python",
   "nbconvert_exporter": "python",
   "pygments_lexer": "ipython3",
   "version": "3.12.9"
  }
 },
 "nbformat": 4,
 "nbformat_minor": 5
}
